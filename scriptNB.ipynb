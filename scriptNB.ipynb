{
 "cells": [
  {
   "attachments": {},
   "cell_type": "markdown",
   "metadata": {},
   "source": [
    "## Source Code 1 (Frequent Itemset & Association Rules)\n",
    "Program untuk menghasilkan frequent itemset dan association rules melalui penggunaan algoritma apriori"
   ]
  },
  {
   "attachments": {},
   "cell_type": "markdown",
   "metadata": {},
   "source": [
    "# Import Library"
   ]
  },
  {
   "cell_type": "code",
   "execution_count": 1,
   "metadata": {},
   "outputs": [],
   "source": [
    "#import library\n",
    "import pandas as pd\n",
    "import numpy as np \n",
    "from mlxtend.frequent_patterns import apriori, association_rules\n",
    "import warnings\n",
    "warnings.filterwarnings('ignore')"
   ]
  },
  {
   "attachments": {},
   "cell_type": "markdown",
   "metadata": {},
   "source": [
    "## Display Dataset"
   ]
  },
  {
   "cell_type": "code",
   "execution_count": 2,
   "metadata": {},
   "outputs": [
    {
     "name": "stdout",
     "output_type": "stream",
     "text": [
      "\n",
      "Raw Dataset:\n",
      "         Date      Time  Transaction           Item\n",
      "0  10/30/2016   9:58:11            1          Bread\n",
      "1  10/30/2016  10:05:34            2   Scandinavian\n",
      "2  10/30/2016  10:05:34            2   Scandinavian\n",
      "3  10/30/2016  10:07:57            3  Hot chocolate\n",
      "4  10/30/2016  10:07:57            3            Jam \n",
      "\n",
      "           Date      Time  Transaction       Item\n",
      "21288  4/9/2017  14:32:58         9682     Coffee\n",
      "21289  4/9/2017  14:32:58         9682        Tea\n",
      "21290  4/9/2017  14:57:06         9683     Coffee\n",
      "21291  4/9/2017  14:57:06         9683     Pastry\n",
      "21292  4/9/2017  15:04:24         9684  Smoothies\n",
      "(21293, 4)\n"
     ]
    }
   ],
   "source": [
    "#menampilkan dataset\n",
    "pd.set_option('display.max_rows', None)\n",
    "pd.set_option('display.max_columns', None)\n",
    "df = pd.read_csv(\"BreadBasket_DMS.csv\")\n",
    "print(\"\\nRaw Dataset:\")\n",
    "print(df.head(),\"\\n\")\n",
    "print(df.tail())\n",
    "print(df.shape)"
   ]
  },
  {
   "attachments": {},
   "cell_type": "markdown",
   "metadata": {},
   "source": [
    "## Missing Value Detection"
   ]
  },
  {
   "cell_type": "code",
   "execution_count": 3,
   "metadata": {},
   "outputs": [
    {
     "name": "stdout",
     "output_type": "stream",
     "text": [
      "\n",
      "Total Missing value:\n",
      "Date             0\n",
      "Time             0\n",
      "Transaction      0\n",
      "Item           786\n",
      "dtype: int64\n",
      "(21293, 4)\n",
      "\n",
      "Dataset BreadBasket_DMS Memiliki = 3.69% missing values\n",
      "\n"
     ]
    }
   ],
   "source": [
    "#deteksi missing value\n",
    "missing_values = [\"NaN\",\"NA\",\" \",\"NONE\"]\n",
    "df = pd.read_csv('BreadBasket_DMS.csv', na_values = missing_values)\n",
    "print(\"\\nTotal Missing value:\")\n",
    "print(df.isnull().sum())\n",
    "print(df.shape)\n",
    "totalRow = len(df.index)\n",
    "missingCount = df.isnull().sum()\n",
    "totalMissing = missingCount.sum()\n",
    "total_mv = round(((totalMissing/totalRow) * 100), 2)\n",
    "print(f\"\\nDataset BreadBasket_DMS Memiliki = {total_mv}% missing values\\n\")"
   ]
  },
  {
   "attachments": {},
   "cell_type": "markdown",
   "metadata": {},
   "source": [
    "## Data Cleaning"
   ]
  },
  {
   "cell_type": "code",
   "execution_count": 4,
   "metadata": {},
   "outputs": [
    {
     "name": "stdout",
     "output_type": "stream",
     "text": [
      "Dataset setelah proses cleaning:\n",
      "Date           0\n",
      "Time           0\n",
      "Transaction    0\n",
      "Item           0\n",
      "dtype: int64\n",
      "(20507, 4)\n",
      "\n",
      "Tipe data tiap Atribut:\n",
      "Date           object\n",
      "Time           object\n",
      "Transaction     int64\n",
      "Item           object\n",
      "dtype: object \n",
      "\n"
     ]
    }
   ],
   "source": [
    "#data cleaning dengan metode remove row\n",
    "print(\"Dataset setelah proses cleaning:\")\n",
    "df.dropna(inplace = True)\n",
    "df['Item'] = df['Item'].str.lower()\n",
    "df_clean = df\n",
    "print(df_clean.isnull().sum())\n",
    "print(df_clean.shape)\n",
    "print(\"\\nTipe data tiap Atribut:\")\n",
    "print(df_clean.dtypes,\"\\n\")"
   ]
  },
  {
   "attachments": {},
   "cell_type": "markdown",
   "metadata": {},
   "source": [
    "## Data Reduction"
   ]
  },
  {
   "cell_type": "code",
   "execution_count": 5,
   "metadata": {},
   "outputs": [
    {
     "name": "stdout",
     "output_type": "stream",
     "text": [
      "Dataset setelah reduksi:\n",
      "   Transaction           Item\n",
      "0            1          bread\n",
      "1            2   scandinavian\n",
      "2            2   scandinavian\n",
      "3            3  hot chocolate\n",
      "4            3            jam\n",
      "(20507, 2)\n",
      "\n",
      "Tipe data tiap Atribut:\n",
      "Transaction     int64\n",
      "Item           object\n",
      "dtype: object\n"
     ]
    }
   ],
   "source": [
    "#data reduction untuk atribut Date dan Time\n",
    "to_drop = ['Date',\n",
    "           'Time']\n",
    "df.drop(to_drop, inplace=True, axis=1)\n",
    "print(\"Dataset setelah reduksi:\")\n",
    "print(df.head())\n",
    "print(df.shape)\n",
    "print(\"\\nTipe data tiap Atribut:\")\n",
    "print(df.dtypes)"
   ]
  },
  {
   "attachments": {},
   "cell_type": "markdown",
   "metadata": {},
   "source": [
    "## Display Total Sales of Each Items"
   ]
  },
  {
   "cell_type": "code",
   "execution_count": 6,
   "metadata": {},
   "outputs": [
    {
     "name": "stdout",
     "output_type": "stream",
     "text": [
      "\n",
      "Penjualan masing-masing item: \n",
      "coffee                           5471\n",
      "bread                            3325\n",
      "tea                              1435\n",
      "cake                             1025\n",
      "pastry                            856\n",
      "sandwich                          771\n",
      "medialuna                         616\n",
      "hot chocolate                     590\n",
      "cookies                           540\n",
      "brownie                           379\n",
      "farm house                        374\n",
      "muffin                            370\n",
      "juice                             369\n",
      "alfajores                         369\n",
      "soup                              342\n",
      "scone                             327\n",
      "toast                             318\n",
      "scandinavian                      277\n",
      "truffles                          193\n",
      "coke                              185\n",
      "spanish brunch                    172\n",
      "fudge                             159\n",
      "baguette                          152\n",
      "jam                               149\n",
      "tiffin                            146\n",
      "mineral water                     136\n",
      "focaccia                          128\n",
      "jammie dodgers                    125\n",
      "chicken stew                      123\n",
      "hearty & seasonal                 107\n",
      "salad                              99\n",
      "frittata                           81\n",
      "smoothies                          77\n",
      "raspberry shortbread sandwich      63\n",
      "keeping it local                   63\n",
      "the nomad                          58\n",
      "vegan mincepie                     54\n",
      "bakewell                           48\n",
      "tartine                            47\n",
      "extra salami or feta               38\n",
      "granola                            28\n",
      "eggs                               28\n",
      "my-5 fruit shoot                   18\n",
      "chocolates                         17\n",
      "vegan feast                        16\n",
      "crisps                             14\n",
      "dulce de leche                     13\n",
      "duck egg                           12\n",
      "kids biscuit                       12\n",
      "pick and mix bowls                 12\n",
      "christmas common                   11\n",
      "tacos/fajita                       11\n",
      "mighty protein                     11\n",
      "postcard                           10\n",
      "gingerbread syrup                   9\n",
      "muesli                              8\n",
      "nomad bag                           8\n",
      "drinking chocolate spoons           8\n",
      "coffee granules                     7\n",
      "victorian sponge                    7\n",
      "empanadas                           7\n",
      "argentina night                     7\n",
      "crepes                              6\n",
      "pintxos                             6\n",
      "half slice monster                  6\n",
      "lemon and coconut                   6\n",
      "honey                               6\n",
      "bare popcorn                        5\n",
      "panatone                            5\n",
      "mortimer                            5\n",
      "bread pudding                       4\n",
      "brioche and salami                  3\n",
      "cherry me dried fruit               3\n",
      "caramel bites                       3\n",
      "chimichurri oil                     2\n",
      "fairy doors                         2\n",
      "bowl nic pitt                       2\n",
      "spread                              2\n",
      "siblings                            2\n",
      "hack the stack                      2\n",
      "chicken sand                        1\n",
      "the bart                            1\n",
      "olum & polenta                      1\n",
      "bacon                               1\n",
      "raw bars                            1\n",
      "polenta                             1\n",
      "Name: Item, dtype: int64\n",
      "\n",
      "Total Item yang Terjual: 20,507 pcs\n",
      "\n"
     ]
    }
   ],
   "source": [
    "#menampilkan total terjualnya masing-masing item\n",
    "total_items = df_clean['Item'].value_counts()\n",
    "print(\"\\nPenjualan masing-masing item: \")\n",
    "print(total_items)\n",
    "a1 = total_items.sum()\n",
    "print(f\"\\nTotal Item yang Terjual: {a1:,} pcs\")\n",
    "print()"
   ]
  },
  {
   "attachments": {},
   "cell_type": "markdown",
   "metadata": {},
   "source": [
    "## Grouped Data"
   ]
  },
  {
   "cell_type": "code",
   "execution_count": 7,
   "metadata": {},
   "outputs": [
    {
     "name": "stdout",
     "output_type": "stream",
     "text": [
      "Mengelompokan Data berdasarkan Transaksinya: \n",
      "   Transaction                       Item\n",
      "0            1                      bread\n",
      "1            2  scandinavian,scandinavian\n",
      "2            3  hot chocolate,jam,cookies\n",
      "3            4                     muffin\n",
      "4            5        coffee,pastry,bread\n"
     ]
    }
   ],
   "source": [
    "#mengelompokan data berdasarkan transaksi\n",
    "trx_data = df_clean.groupby('Transaction').agg(','.join).reset_index()\n",
    "print(f\"Mengelompokan Data berdasarkan Transaksinya: \\n{trx_data.head()}\")"
   ]
  },
  {
   "attachments": {},
   "cell_type": "markdown",
   "metadata": {},
   "source": [
    "## Data Transformation"
   ]
  },
  {
   "cell_type": "code",
   "execution_count": 8,
   "metadata": {},
   "outputs": [
    {
     "name": "stdout",
     "output_type": "stream",
     "text": [
      "\n",
      "Transformasi menjadi bentuk biner: \n",
      "Item         alfajores  argentina night  bacon  baguette  bakewell  \\\n",
      "Transaction                                                          \n",
      "1                    0                0      0         0         0   \n",
      "2                    0                0      0         0         0   \n",
      "3                    0                0      0         0         0   \n",
      "4                    0                0      0         0         0   \n",
      "5                    0                0      0         0         0   \n",
      "\n",
      "Item         bare popcorn  bowl nic pitt  bread  bread pudding  \\\n",
      "Transaction                                                      \n",
      "1                       0              0      1              0   \n",
      "2                       0              0      0              0   \n",
      "3                       0              0      0              0   \n",
      "4                       0              0      0              0   \n",
      "5                       0              0      1              0   \n",
      "\n",
      "Item         brioche and salami  brownie  cake  caramel bites  \\\n",
      "Transaction                                                     \n",
      "1                             0        0     0              0   \n",
      "2                             0        0     0              0   \n",
      "3                             0        0     0              0   \n",
      "4                             0        0     0              0   \n",
      "5                             0        0     0              0   \n",
      "\n",
      "Item         cherry me dried fruit  chicken sand  chicken stew  \\\n",
      "Transaction                                                      \n",
      "1                                0             0             0   \n",
      "2                                0             0             0   \n",
      "3                                0             0             0   \n",
      "4                                0             0             0   \n",
      "5                                0             0             0   \n",
      "\n",
      "Item         chimichurri oil  chocolates  christmas common  coffee  \\\n",
      "Transaction                                                          \n",
      "1                          0           0                 0       0   \n",
      "2                          0           0                 0       0   \n",
      "3                          0           0                 0       0   \n",
      "4                          0           0                 0       0   \n",
      "5                          0           0                 0       1   \n",
      "\n",
      "Item         coffee granules   coke  cookies  crepes  crisps  \\\n",
      "Transaction                                                    \n",
      "1                           0     0        0       0       0   \n",
      "2                           0     0        0       0       0   \n",
      "3                           0     0        1       0       0   \n",
      "4                           0     0        0       0       0   \n",
      "5                           0     0        0       0       0   \n",
      "\n",
      "Item         drinking chocolate spoons   duck egg  dulce de leche  eggs  \\\n",
      "Transaction                                                               \n",
      "1                                     0         0               0     0   \n",
      "2                                     0         0               0     0   \n",
      "3                                     0         0               0     0   \n",
      "4                                     0         0               0     0   \n",
      "5                                     0         0               0     0   \n",
      "\n",
      "Item         empanadas  extra salami or feta  fairy doors  farm house  \\\n",
      "Transaction                                                             \n",
      "1                    0                     0            0           0   \n",
      "2                    0                     0            0           0   \n",
      "3                    0                     0            0           0   \n",
      "4                    0                     0            0           0   \n",
      "5                    0                     0            0           0   \n",
      "\n",
      "Item         focaccia  frittata  fudge  gingerbread syrup  granola  \\\n",
      "Transaction                                                          \n",
      "1                   0         0      0                  0        0   \n",
      "2                   0         0      0                  0        0   \n",
      "3                   0         0      0                  0        0   \n",
      "4                   0         0      0                  0        0   \n",
      "5                   0         0      0                  0        0   \n",
      "\n",
      "Item         hack the stack  half slice monster   hearty & seasonal  honey  \\\n",
      "Transaction                                                                  \n",
      "1                         0                    0                  0      0   \n",
      "2                         0                    0                  0      0   \n",
      "3                         0                    0                  0      0   \n",
      "4                         0                    0                  0      0   \n",
      "5                         0                    0                  0      0   \n",
      "\n",
      "Item         hot chocolate  jam  jammie dodgers  juice  keeping it local  \\\n",
      "Transaction                                                                \n",
      "1                        0    0               0      0                 0   \n",
      "2                        0    0               0      0                 0   \n",
      "3                        1    1               0      0                 0   \n",
      "4                        0    0               0      0                 0   \n",
      "5                        0    0               0      0                 0   \n",
      "\n",
      "Item         kids biscuit  lemon and coconut  medialuna  mighty protein  \\\n",
      "Transaction                                                               \n",
      "1                       0                  0          0               0   \n",
      "2                       0                  0          0               0   \n",
      "3                       0                  0          0               0   \n",
      "4                       0                  0          0               0   \n",
      "5                       0                  0          0               0   \n",
      "\n",
      "Item         mineral water  mortimer  muesli  muffin  my-5 fruit shoot  \\\n",
      "Transaction                                                              \n",
      "1                        0         0       0       0                 0   \n",
      "2                        0         0       0       0                 0   \n",
      "3                        0         0       0       0                 0   \n",
      "4                        0         0       0       1                 0   \n",
      "5                        0         0       0       0                 0   \n",
      "\n",
      "Item         nomad bag  olum & polenta  panatone  pastry  pick and mix bowls  \\\n",
      "Transaction                                                                    \n",
      "1                    0               0         0       0                   0   \n",
      "2                    0               0         0       0                   0   \n",
      "3                    0               0         0       0                   0   \n",
      "4                    0               0         0       0                   0   \n",
      "5                    0               0         0       1                   0   \n",
      "\n",
      "Item         pintxos  polenta  postcard  raspberry shortbread sandwich  \\\n",
      "Transaction                                                              \n",
      "1                  0        0         0                              0   \n",
      "2                  0        0         0                              0   \n",
      "3                  0        0         0                              0   \n",
      "4                  0        0         0                              0   \n",
      "5                  0        0         0                              0   \n",
      "\n",
      "Item         raw bars  salad  sandwich  scandinavian  scone  siblings  \\\n",
      "Transaction                                                             \n",
      "1                   0      0         0             0      0         0   \n",
      "2                   0      0         0             1      0         0   \n",
      "3                   0      0         0             0      0         0   \n",
      "4                   0      0         0             0      0         0   \n",
      "5                   0      0         0             0      0         0   \n",
      "\n",
      "Item         smoothies  soup  spanish brunch  spread  tacos/fajita  tartine  \\\n",
      "Transaction                                                                   \n",
      "1                    0     0               0       0             0        0   \n",
      "2                    0     0               0       0             0        0   \n",
      "3                    0     0               0       0             0        0   \n",
      "4                    0     0               0       0             0        0   \n",
      "5                    0     0               0       0             0        0   \n",
      "\n",
      "Item         tea  the bart  the nomad  tiffin  toast  truffles  vegan feast  \\\n",
      "Transaction                                                                   \n",
      "1              0         0          0       0      0         0            0   \n",
      "2              0         0          0       0      0         0            0   \n",
      "3              0         0          0       0      0         0            0   \n",
      "4              0         0          0       0      0         0            0   \n",
      "5              0         0          0       0      0         0            0   \n",
      "\n",
      "Item         vegan mincepie  victorian sponge  \n",
      "Transaction                                    \n",
      "1                         0                 0  \n",
      "2                         0                 0  \n",
      "3                         0                 0  \n",
      "4                         0                 0  \n",
      "5                         0                 0  \n",
      "\n"
     ]
    }
   ],
   "source": [
    "#data transformation menjadi bentuk biner\n",
    "df = df.groupby(['Transaction','Item']).size().reset_index(name='count')\n",
    "itemset = (df.groupby(['Transaction', 'Item'])['count']\n",
    "          .sum().unstack().reset_index().fillna(0)\n",
    "          .set_index('Transaction'))\n",
    "def encode_units(x):\n",
    "    if x <= 0:\n",
    "        return 0\n",
    "    if x >= 1:\n",
    "        return 1\n",
    "basket = itemset.applymap(encode_units)\n",
    "print(f\"\\nTransformasi menjadi bentuk biner: \\n{basket.head()}\\n\")"
   ]
  },
  {
   "attachments": {},
   "cell_type": "markdown",
   "metadata": {},
   "source": [
    "## Generate Rules Bassist"
   ]
  },
  {
   "cell_type": "code",
   "execution_count": 9,
   "metadata": {},
   "outputs": [
    {
     "name": "stdout",
     "output_type": "stream",
     "text": [
      "Processing 174 combinations | Sampling itemset size 3\n",
      "     support                 itemsets\n",
      "0   0.036344              (alfajores)\n",
      "1   0.327205                  (bread)\n",
      "2   0.040042                (brownie)\n",
      "3   0.103856                   (cake)\n",
      "4   0.478394                 (coffee)\n",
      "5   0.054411                (cookies)\n",
      "6   0.039197             (farm house)\n",
      "7   0.058320          (hot chocolate)\n",
      "8   0.038563                  (juice)\n",
      "9   0.061807              (medialuna)\n",
      "10  0.038457                 (muffin)\n",
      "11  0.086107                 (pastry)\n",
      "12  0.071844               (sandwich)\n",
      "13  0.029054           (scandinavian)\n",
      "14  0.034548                  (scone)\n",
      "15  0.034443                   (soup)\n",
      "16  0.142631                    (tea)\n",
      "17  0.033597                  (toast)\n",
      "18  0.020285               (truffles)\n",
      "19  0.023349            (bread, cake)\n",
      "20  0.090016          (bread, coffee)\n",
      "21  0.029160          (pastry, bread)\n",
      "22  0.028104             (bread, tea)\n",
      "23  0.054728           (coffee, cake)\n",
      "24  0.023772              (tea, cake)\n",
      "25  0.028209        (coffee, cookies)\n",
      "26  0.029583  (coffee, hot chocolate)\n",
      "27  0.020602          (juice, coffee)\n",
      "28  0.035182      (medialuna, coffee)\n",
      "29  0.047544         (pastry, coffee)\n",
      "30  0.038246       (coffee, sandwich)\n",
      "31  0.049868            (tea, coffee)\n",
      "32  0.023666          (toast, coffee) \n",
      "\n",
      "Aturan Asosiasi: \n",
      "        antecedents      consequents  antecedent support  consequent support  \\\n",
      "0          (pastry)          (bread)            0.086107            0.327205   \n",
      "1           (bread)         (pastry)            0.327205            0.086107   \n",
      "2          (coffee)           (cake)            0.478394            0.103856   \n",
      "3            (cake)         (coffee)            0.103856            0.478394   \n",
      "4             (tea)           (cake)            0.142631            0.103856   \n",
      "5            (cake)            (tea)            0.103856            0.142631   \n",
      "6          (coffee)        (cookies)            0.478394            0.054411   \n",
      "7         (cookies)         (coffee)            0.054411            0.478394   \n",
      "8          (coffee)  (hot chocolate)            0.478394            0.058320   \n",
      "9   (hot chocolate)         (coffee)            0.058320            0.478394   \n",
      "10          (juice)         (coffee)            0.038563            0.478394   \n",
      "11         (coffee)          (juice)            0.478394            0.038563   \n",
      "12      (medialuna)         (coffee)            0.061807            0.478394   \n",
      "13         (coffee)      (medialuna)            0.478394            0.061807   \n",
      "14         (pastry)         (coffee)            0.086107            0.478394   \n",
      "15         (coffee)         (pastry)            0.478394            0.086107   \n",
      "16         (coffee)       (sandwich)            0.478394            0.071844   \n",
      "17       (sandwich)         (coffee)            0.071844            0.478394   \n",
      "18          (toast)         (coffee)            0.033597            0.478394   \n",
      "19         (coffee)          (toast)            0.478394            0.033597   \n",
      "\n",
      "     support  confidence      lift  leverage  conviction  \n",
      "0   0.029160    0.338650  1.034977  0.000985    1.017305  \n",
      "1   0.029160    0.089119  1.034977  0.000985    1.003306  \n",
      "2   0.054728    0.114399  1.101515  0.005044    1.011905  \n",
      "3   0.054728    0.526958  1.101515  0.005044    1.102664  \n",
      "4   0.023772    0.166667  1.604781  0.008959    1.075372  \n",
      "5   0.023772    0.228891  1.604781  0.008959    1.111865  \n",
      "6   0.028209    0.058966  1.083723  0.002179    1.004841  \n",
      "7   0.028209    0.518447  1.083723  0.002179    1.083174  \n",
      "8   0.029583    0.061837  1.060311  0.001683    1.003749  \n",
      "9   0.029583    0.507246  1.060311  0.001683    1.058553  \n",
      "10  0.020602    0.534247  1.116750  0.002154    1.119919  \n",
      "11  0.020602    0.043065  1.116750  0.002154    1.004705  \n",
      "12  0.035182    0.569231  1.189878  0.005614    1.210871  \n",
      "13  0.035182    0.073542  1.189878  0.005614    1.012667  \n",
      "14  0.047544    0.552147  1.154168  0.006351    1.164682  \n",
      "15  0.047544    0.099382  1.154168  0.006351    1.014740  \n",
      "16  0.038246    0.079947  1.112792  0.003877    1.008807  \n",
      "17  0.038246    0.532353  1.112792  0.003877    1.115384  \n",
      "18  0.023666    0.704403  1.472431  0.007593    1.764582  \n",
      "19  0.023666    0.049470  1.472431  0.007593    1.016699  \n"
     ]
    }
   ],
   "source": [
    "#apriori dengan ukuran kinerja support\n",
    "frequent_items = apriori(basket, min_support = 0.02, use_colnames = True, verbose = 1)\n",
    "print(frequent_items, \"\\n\")\n",
    "\n",
    "#association rules yang difilter dengan ukuran kinerja lift\n",
    "df_ar = association_rules(frequent_items, metric = \"lift\", min_threshold = 1)\n",
    "print(f\"Aturan Asosiasi: \\n{df_ar}\")"
   ]
  },
  {
   "attachments": {},
   "cell_type": "markdown",
   "metadata": {},
   "source": [
    "## Generate Best Rule"
   ]
  },
  {
   "cell_type": "code",
   "execution_count": 10,
   "metadata": {},
   "outputs": [
    {
     "name": "stdout",
     "output_type": "stream",
     "text": [
      "\n",
      "Hasil Aturan Asosiasi Terbaik: \n",
      "   antecedents consequents  antecedent support  consequent support   support  \\\n",
      "18     (toast)    (coffee)            0.033597            0.478394  0.023666   \n",
      "\n",
      "    confidence      lift  leverage  conviction  \n",
      "18    0.704403  1.472431  0.007593    1.764582  \n"
     ]
    }
   ],
   "source": [
    "#filter aturan asosiasi terbaik dengan 3 ukuran kinerja (support, confidence, dan lift)\n",
    "result = df_ar[ (df_ar['lift'] >= 1) &\n",
    "                (df_ar['confidence'] >= 0.7)]\n",
    "\n",
    "best_ar = result.sort_values(by='confidence', ascending=False)\n",
    "print(f\"\\nHasil Aturan Asosiasi Terbaik: \\n{best_ar}\")"
   ]
  },
  {
   "attachments": {},
   "cell_type": "markdown",
   "metadata": {},
   "source": [
    "## Saving to Excel"
   ]
  },
  {
   "cell_type": "code",
   "execution_count": 11,
   "metadata": {},
   "outputs": [],
   "source": [
    "#save to excel\n",
    "with pd.ExcelWriter('ar.xlsx') as writer:\n",
    "    df_clean.to_excel(writer, sheet_name='data_clean')\n",
    "    total_items.to_excel(writer, sheet_name='frequent_items')\n",
    "    trx_data.to_excel(writer, sheet_name='data_transaction')\n",
    "    basket.to_excel(writer, sheet_name='data_transform')\n",
    "    frequent_items.to_excel(writer, sheet_name='support_items')\n",
    "    df_ar.to_excel(writer, sheet_name='association_rules')\n",
    "    best_ar.to_excel(writer, sheet_name='best_ar')"
   ]
  }
 ],
 "metadata": {
  "kernelspec": {
   "display_name": "Python 3",
   "language": "python",
   "name": "python3"
  },
  "language_info": {
   "codemirror_mode": {
    "name": "ipython",
    "version": 3
   },
   "file_extension": ".py",
   "mimetype": "text/x-python",
   "name": "python",
   "nbconvert_exporter": "python",
   "pygments_lexer": "ipython3",
   "version": "3.11.2"
  },
  "orig_nbformat": 4
 },
 "nbformat": 4,
 "nbformat_minor": 2
}
