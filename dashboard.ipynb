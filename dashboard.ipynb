{
 "cells": [
  {
   "attachments": {},
   "cell_type": "markdown",
   "metadata": {},
   "source": [
    "## Source Code 2 (Dashboard Analitik)\n",
    "Program untuk memvisualisasikan hasil analisis deskriptif dan prediktif dari dataset produk bakery"
   ]
  },
  {
   "attachments": {},
   "cell_type": "markdown",
   "metadata": {},
   "source": [
    "## Import Library"
   ]
  },
  {
   "cell_type": "code",
   "execution_count": null,
   "metadata": {},
   "outputs": [],
   "source": [
    "#import library\n",
    "import pandas as pd\n",
    "import plotly.express as px\n",
    "import streamlit as st"
   ]
  },
  {
   "attachments": {},
   "cell_type": "markdown",
   "metadata": {},
   "source": [
    "## Configuration Dashboard"
   ]
  },
  {
   "cell_type": "code",
   "execution_count": null,
   "metadata": {},
   "outputs": [],
   "source": [
    "#configuration dashboard\n",
    "st.set_page_config(\n",
    "                page_title=\"Sales Dashboard\",\n",
    "                page_icon=\":chart_with_upwards_trend:\",\n",
    "                layout=\"wide\"\n",
    "            )\n",
    "\n",
    "#[theme]\n",
    "primaryColor=\"#00adb5\"\n",
    "backgroundColor=\"#222831\"\n",
    "secondaryBackgroundColor=\"#393e46\"\n",
    "textColor=\"#eeeeee\"\n",
    "font=\"sans serif\""
   ]
  },
  {
   "attachments": {},
   "cell_type": "markdown",
   "metadata": {},
   "source": [
    "## Reading Data frame"
   ]
  },
  {
   "cell_type": "code",
   "execution_count": null,
   "metadata": {},
   "outputs": [],
   "source": [
    "#read dataframe\n",
    "df = pd.read_excel(\n",
    "        io=\"Association_Rules.xlsx\",\n",
    "        engine=\"openpyxl\",\n",
    "        sheet_name=\"data_clean\",\n",
    "        usecols=\"B:R\",\n",
    "        nrows=999999\n",
    "    )\n",
    "\n",
    "dt = pd.read_excel(\n",
    "        io=\"Association_Rules.xlsx\",\n",
    "        engine=\"openpyxl\",\n",
    "        sheet_name=\"data_transaction\",\n",
    "        usecols=\"B:R\",\n",
    "        nrows=999999\n",
    "    )\n",
    "\n",
    "fr = pd.read_excel(\n",
    "        io=\"Association_Rules.xlsx\",\n",
    "        engine=\"openpyxl\",\n",
    "        sheet_name=\"frequent_items\",\n",
    "        usecols=\"B:R\",\n",
    "        nrows=999999\n",
    "    )\n",
    "\n",
    "ar = pd.read_excel(\n",
    "        io=\"Association_Rules.xlsx\",\n",
    "        engine=\"openpyxl\",\n",
    "        sheet_name=\"association_rules\",\n",
    "        usecols=\"B:R\",\n",
    "        nrows=999999\n",
    "    )\n",
    "\n",
    "rl = pd.read_excel(\n",
    "        io=\"Association_Rules.xlsx\",\n",
    "        engine=\"openpyxl\",\n",
    "        sheet_name=\"rules\",\n",
    "        usecols=\"B:R\",\n",
    "        nrows=999999\n",
    "    )\n",
    "\n",
    "best_ar = pd.read_excel(\n",
    "        io=\"Association_Rules.xlsx\",\n",
    "        engine=\"openpyxl\",\n",
    "        sheet_name=\"best_ar\",\n",
    "        usecols=\"B:R\",\n",
    "        nrows=999999\n",
    "    )"
   ]
  },
  {
   "attachments": {},
   "cell_type": "markdown",
   "metadata": {},
   "source": [
    "## Sidebar Dashboard"
   ]
  },
  {
   "cell_type": "code",
   "execution_count": null,
   "metadata": {},
   "outputs": [],
   "source": [
    "#sidebar dashboard\n",
    "st.sidebar.header(\"Dashboard Analytics\")\n",
    "item = st.sidebar.multiselect(\n",
    "    \"Jenis Item:\",\n",
    "    options=df[\"Item\"].unique(),\n",
    "    default=df[\"Item\"].unique()\n",
    ")"
   ]
  },
  {
   "attachments": {},
   "cell_type": "markdown",
   "metadata": {},
   "source": [
    "## Header and KPI Dashboard "
   ]
  },
  {
   "cell_type": "code",
   "execution_count": null,
   "metadata": {},
   "outputs": [],
   "source": [
    "#header dashboard\n",
    "st.header(\"**Dashboard Penjualan _:blue[Produk Bakery]_ :bread:**\")\n",
    "st.markdown(\"##\")\n",
    "\n",
    "#key performance indicator\n",
    "total_trx = int(df[\"Transaction\"].max())\n",
    "total_items_sold = int(fr[\"Total\"].sum())\n",
    "best_seller = str(\"Coffee\")\n",
    "\n",
    "a1, a2, a3 = st.columns(3)\n",
    "with a1:\n",
    "    st.subheader(\"Total Transaksi\")\n",
    "    st.subheader(f\":pushpin: :blue[{total_trx:,}]\")\n",
    "with a2:\n",
    "    st.subheader(\"Total Item Terjual\")\n",
    "    st.subheader(f\":pushpin: :blue[{total_items_sold:,} pcs]\")\n",
    "with a3:\n",
    "    st.subheader(\"Item Best Seller\")\n",
    "    st.subheader(f\":pushpin: :blue[{best_seller}]\")"
   ]
  },
  {
   "attachments": {},
   "cell_type": "markdown",
   "metadata": {},
   "source": [
    "## Bar Chart of Total Sales "
   ]
  },
  {
   "cell_type": "code",
   "execution_count": null,
   "metadata": {},
   "outputs": [],
   "source": [
    "st.markdown(\"##\")\n",
    "st.subheader(\"Total Penjualan per Item\")\n",
    "\n",
    "#total penjualan seluruh items\n",
    "b = st.container()\n",
    "with b:\n",
    "    fig_all_items = px.bar(\n",
    "        data_frame = fr,\n",
    "        x = fr[\"Item\"],\n",
    "        y = fr[\"Total\"],\n",
    "        color = fr[\"Item\"],\n",
    "        height = 500\n",
    "    )\n",
    "    fig_all_items.update_layout(\n",
    "        xaxis=dict(tickmode=\"linear\"),\n",
    "        plot_bgcolor=\"rgba(0,0,0,0)\",\n",
    "        yaxis=(dict(showgrid=False)),\n",
    "    )\n",
    "b.plotly_chart(fig_all_items, use_container_width=True)\n",
    "st.write(\"**:green[#Note:]**\")\n",
    "st.write(\"**-Pencatatan data transaksi dimulai dari tanggal :blue[10/30/2016] sampai :blue[4/9/2017], yang berjumlah :blue[162 hari]**\")\n",
    "st.write(\"**-Memiliki :blue[86 jenis item] yang dijual**\")"
   ]
  },
  {
   "attachments": {},
   "cell_type": "markdown",
   "metadata": {},
   "source": [
    "## Dataset Product Bakery Table"
   ]
  },
  {
   "cell_type": "code",
   "execution_count": null,
   "metadata": {},
   "outputs": [],
   "source": [
    "#tabel dataset\n",
    "st.markdown(\"##\")\n",
    "c1, c2 = st.columns(2)\n",
    "with c1:\n",
    "    st.subheader(\"Tabel Dataset Penjualan\")\n",
    "    st.dataframe(df, use_container_width=True)\n",
    "with c2:\n",
    "    st.subheader(\"Tabel Transaksi\")\n",
    "    st.dataframe(dt, use_container_width=True)"
   ]
  },
  {
   "attachments": {},
   "cell_type": "markdown",
   "metadata": {},
   "source": [
    "## Scatter Plot of Association Rules"
   ]
  },
  {
   "cell_type": "code",
   "execution_count": null,
   "metadata": {},
   "outputs": [],
   "source": [
    "#scatter plot\n",
    "st.markdown(\"##\")\n",
    "st.subheader(\"Scatter Plot Association Rules\")\n",
    "d = st.container()\n",
    "with d:\n",
    "    fig_rl = px.scatter(\n",
    "        data_frame = rl,\n",
    "        x = 'Support',\n",
    "        y = 'Confidence',\n",
    "        # z = 'Lift Ratio',\n",
    "        color = 'Lift Ratio',\n",
    "        hover_name = 'Rules'\n",
    "    )\n",
    "d.plotly_chart(fig_rl, use_container_width=True)\n",
    "st.markdown(\"**:green[#Note:]**\")\n",
    "st.write(\"**-Nilai minimum :blue[support = 0.02]**\")\n",
    "st.write(\"**-Nilai minimum :blue[lift ratio = 1]**\")\n",
    "st.write(\"**-Nilai minimum :blue[confidence = 0.7]**\")"
   ]
  },
  {
   "attachments": {},
   "cell_type": "markdown",
   "metadata": {},
   "source": [
    "## Association Rules Table"
   ]
  },
  {
   "cell_type": "code",
   "execution_count": null,
   "metadata": {},
   "outputs": [],
   "source": [
    "#tabel association rules\n",
    "st.markdown(\"##\")\n",
    "st.subheader(\"Tabel Association Rules\")\n",
    "st.dataframe(ar, use_container_width=True)\n",
    "\n",
    "st.subheader(\"Tabel Association Rules Terbaik\")\n",
    "st.dataframe(best_ar, use_container_width=True)\n",
    "st.write(\"**:green[#Note:]**\")\n",
    "st.write(\"**-Antecedents = Item A**\")\n",
    "st.write(\"**-Consequents = Item B**\")\n",
    "st.write(\"**-Rules = :blue[Jika membeli A, maka akan membeli B]**\")"
   ]
  }
 ],
 "metadata": {
  "kernelspec": {
   "display_name": "Python 3",
   "language": "python",
   "name": "python3"
  },
  "language_info": {
   "codemirror_mode": {
    "name": "ipython",
    "version": 3
   },
   "file_extension": ".py",
   "mimetype": "text/x-python",
   "name": "python",
   "nbconvert_exporter": "python",
   "pygments_lexer": "ipython3",
   "version": "3.11.2"
  },
  "orig_nbformat": 4
 },
 "nbformat": 4,
 "nbformat_minor": 2
}
